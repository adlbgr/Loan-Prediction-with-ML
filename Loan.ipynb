{
 "cells": [
  {
   "cell_type": "markdown",
   "metadata": {},
   "source": [
    "# Loan Data Analysis and Feature Importance"
   ]
  },
  {
   "cell_type": "markdown",
   "metadata": {},
   "source": [
    "In this notebook, we will perform various analyses on the credit data and determine the important characteristics. First, we will upload and clear the data. Next, we will train the data using different machine learning models and compare their performance. Finally, we will select the best model and visualize the feature importance ranking of this model."
   ]
  },
  {
   "cell_type": "code",
   "execution_count": 1,
   "metadata": {},
   "outputs": [],
   "source": [
    "import pandas as pd\n",
    "import numpy as np\n",
    "import warnings\n",
    "import seaborn as sns\n",
    "import matplotlib.pyplot as plt\n",
    "warnings.filterwarnings(\"ignore\")\n",
    "pd.set_option(\"display.max_columns\",100)"
   ]
  },
  {
   "cell_type": "code",
   "execution_count": 2,
   "metadata": {},
   "outputs": [],
   "source": [
    "import pandas as pd\n",
    "import numpy as np\n",
    "import warnings\n",
    "warnings.filterwarnings(\"ignore\")\n",
    "pd.set_option(\"display.max_columns\",100)\n",
    "\n",
    "from sklearn.linear_model import LogisticRegression\n",
    "from sklearn.neighbors import KNeighborsClassifier\n",
    "from sklearn.ensemble import RandomForestClassifier, AdaBoostClassifier, GradientBoostingClassifier\n",
    "from sklearn.svm import SVC\n",
    "from sklearn.naive_bayes import GaussianNB\n",
    "from sklearn.tree import DecisionTreeClassifier\n",
    "from sklearn.neural_network import MLPClassifier\n",
    "\n",
    "from sklearn.model_selection import train_test_split\n",
    "from sklearn.metrics import accuracy_score, precision_score, recall_score, f1_score\n",
    "\n",
    "def algo_test_classification(x, y):\n",
    "    log_reg = LogisticRegression()\n",
    "    knn = KNeighborsClassifier()\n",
    "    rf = RandomForestClassifier()\n",
    "    ada = AdaBoostClassifier()\n",
    "    gbdt = GradientBoostingClassifier()\n",
    "    svc = SVC()\n",
    "    nb = GaussianNB()\n",
    "    dt = DecisionTreeClassifier()\n",
    "    mlp = MLPClassifier()\n",
    "\n",
    "    algos = [log_reg, knn, rf, ada, gbdt, svc, nb, dt, mlp]\n",
    "    algo_names = ['Logistic Regression', 'KNN', 'Random Forest', 'AdaBoost', 'Gradient Boosting', \n",
    "                   'SVC', 'Naive Bayes', 'Decision Tree', 'MLP']\n",
    "\n",
    "    x_train, x_test, y_train, y_test = train_test_split(x, y, test_size=0.20, random_state=42)\n",
    "    \n",
    "    accuracy = []\n",
    "    precision = []\n",
    "    recall = []\n",
    "    f1 = []\n",
    "\n",
    "    result = pd.DataFrame(columns=['Accuracy', 'Precision', 'Recall', 'F1 Score'], index=algo_names)\n",
    "    \n",
    "    for algo in algos:\n",
    "        p = algo.fit(x_train, y_train).predict(x_test)\n",
    "        accuracy.append(accuracy_score(y_test, p))\n",
    "        precision.append(precision_score(y_test, p, average='weighted'))\n",
    "        recall.append(recall_score(y_test, p, average='weighted'))\n",
    "        f1.append(f1_score(y_test, p, average='weighted'))\n",
    "        \n",
    "    result.Accuracy = accuracy\n",
    "    result.Precision = precision\n",
    "    result.Recall = recall\n",
    "    result.F1_Score = f1\n",
    "    \n",
    "    rtable = result.sort_values('Accuracy', ascending=False)\n",
    "    return rtable\n"
   ]
  },
  {
   "cell_type": "markdown",
   "metadata": {},
   "source": [
    "### The dataset consists of the following fields:\n",
    "* Loan ID: A unique Identifier for the loan information.\n",
    "* Customer ID: A unique identifier for the customer. Customers may have more than one loan.\n",
    "* Loan Status: A categorical variable indicating if the loan was paid back or defaulted.\n",
    "* Current Loan Amount: This is the loan amount that was either completely paid off, or the amount that was defaulted.\n",
    "* Term: A categorical variable indicating if it is a short term or long term loan.\n",
    "* Credit Score: A value between 0 and 800 indicating the riskiness of the borrowers credit history.\n",
    "* Years in current job: A categorical variable indicating how many years the customer has been in their current job.\n",
    "* Home Ownership: Categorical variable indicating home ownership. Values are \"Rent\", \"Home Mortgage\", and \"Own\". If the value is OWN, then the customer is a home owner with no mortgage\n",
    "* Annual Income: The customer's annual income\n",
    "* Purpose: A description of the purpose of the loan.\n",
    "* Monthly Debt: The customer's monthly payment for their existing loans\n",
    "* Years of Credit History: The years since the first entry in the customer’s credit history • Months since last delinquent: Months since the last loan delinquent payment\n",
    "* Number of Open Accounts: The total number of open credit cards\n",
    "* Number of Credit Problems: The number of credit problems in the customer records.\n",
    "* Current Credit Balance: The current total debt for the customer\n",
    "* Maximum Open Credit: The maximum credit limit for all credit sources.\n",
    "* Bankruptcies: The number of bankruptcies\n",
    "* Tax Liens: The number of tax liens.\n",
    "\n"
   ]
  },
  {
   "cell_type": "code",
   "execution_count": 3,
   "metadata": {},
   "outputs": [
    {
     "data": {
      "text/html": [
       "<div>\n",
       "<style scoped>\n",
       "    .dataframe tbody tr th:only-of-type {\n",
       "        vertical-align: middle;\n",
       "    }\n",
       "\n",
       "    .dataframe tbody tr th {\n",
       "        vertical-align: top;\n",
       "    }\n",
       "\n",
       "    .dataframe thead th {\n",
       "        text-align: right;\n",
       "    }\n",
       "</style>\n",
       "<table border=\"1\" class=\"dataframe\">\n",
       "  <thead>\n",
       "    <tr style=\"text-align: right;\">\n",
       "      <th></th>\n",
       "      <th>Loan ID</th>\n",
       "      <th>Customer ID</th>\n",
       "      <th>Loan Status</th>\n",
       "      <th>Current Loan Amount</th>\n",
       "      <th>Term</th>\n",
       "      <th>Credit Score</th>\n",
       "      <th>Years in current job</th>\n",
       "      <th>Home Ownership</th>\n",
       "      <th>Annual Income</th>\n",
       "      <th>Purpose</th>\n",
       "      <th>Monthly Debt</th>\n",
       "      <th>Years of Credit History</th>\n",
       "      <th>Months since last delinquent</th>\n",
       "      <th>Number of Open Accounts</th>\n",
       "      <th>Number of Credit Problems</th>\n",
       "      <th>Current Credit Balance</th>\n",
       "      <th>Maximum Open Credit</th>\n",
       "      <th>Bankruptcies</th>\n",
       "      <th>Tax Liens</th>\n",
       "    </tr>\n",
       "  </thead>\n",
       "  <tbody>\n",
       "    <tr>\n",
       "      <th>0</th>\n",
       "      <td>000025bb-5694-4cff-b17d-192b1a98ba44</td>\n",
       "      <td>5ebc8bb1-5eb9-4404-b11b-a6eebc401a19</td>\n",
       "      <td>Fully Paid</td>\n",
       "      <td>11520</td>\n",
       "      <td>Short Term</td>\n",
       "      <td>741.0</td>\n",
       "      <td>10+ years</td>\n",
       "      <td>Home Mortgage</td>\n",
       "      <td>33694.0</td>\n",
       "      <td>Debt Consolidation</td>\n",
       "      <td>$584.03</td>\n",
       "      <td>12.3</td>\n",
       "      <td>41.0</td>\n",
       "      <td>10</td>\n",
       "      <td>0</td>\n",
       "      <td>6760</td>\n",
       "      <td>16056</td>\n",
       "      <td>0.0</td>\n",
       "      <td>0.0</td>\n",
       "    </tr>\n",
       "    <tr>\n",
       "      <th>1</th>\n",
       "      <td>00002c49-3a29-4bd4-8f67-c8f8fbc1048c</td>\n",
       "      <td>927b388d-2e01-423f-a8dc-f7e42d668f46</td>\n",
       "      <td>Fully Paid</td>\n",
       "      <td>3441</td>\n",
       "      <td>Short Term</td>\n",
       "      <td>734.0</td>\n",
       "      <td>4 years</td>\n",
       "      <td>Home Mortgage</td>\n",
       "      <td>42269.0</td>\n",
       "      <td>other</td>\n",
       "      <td>$1,106.04</td>\n",
       "      <td>26.3</td>\n",
       "      <td>NaN</td>\n",
       "      <td>17</td>\n",
       "      <td>0</td>\n",
       "      <td>6262</td>\n",
       "      <td>19149</td>\n",
       "      <td>0.0</td>\n",
       "      <td>0.0</td>\n",
       "    </tr>\n",
       "    <tr>\n",
       "      <th>2</th>\n",
       "      <td>00002d89-27f3-409b-aa76-90834f359a65</td>\n",
       "      <td>defce609-c631-447d-aad6-1270615e89c4</td>\n",
       "      <td>Fully Paid</td>\n",
       "      <td>21029</td>\n",
       "      <td>Short Term</td>\n",
       "      <td>747.0</td>\n",
       "      <td>10+ years</td>\n",
       "      <td>Home Mortgage</td>\n",
       "      <td>90126.0</td>\n",
       "      <td>Debt Consolidation</td>\n",
       "      <td>$1,321.85</td>\n",
       "      <td>28.8</td>\n",
       "      <td>NaN</td>\n",
       "      <td>5</td>\n",
       "      <td>0</td>\n",
       "      <td>20967</td>\n",
       "      <td>28335</td>\n",
       "      <td>0.0</td>\n",
       "      <td>0.0</td>\n",
       "    </tr>\n",
       "    <tr>\n",
       "      <th>3</th>\n",
       "      <td>00005222-b4d8-45a4-ad8c-186057e24233</td>\n",
       "      <td>070bcecb-aae7-4485-a26a-e0403e7bb6c5</td>\n",
       "      <td>Fully Paid</td>\n",
       "      <td>18743</td>\n",
       "      <td>Short Term</td>\n",
       "      <td>747.0</td>\n",
       "      <td>10+ years</td>\n",
       "      <td>Own Home</td>\n",
       "      <td>38072.0</td>\n",
       "      <td>Debt Consolidation</td>\n",
       "      <td>$751.92</td>\n",
       "      <td>26.2</td>\n",
       "      <td>NaN</td>\n",
       "      <td>9</td>\n",
       "      <td>0</td>\n",
       "      <td>22529</td>\n",
       "      <td>43915</td>\n",
       "      <td>0.0</td>\n",
       "      <td>0.0</td>\n",
       "    </tr>\n",
       "    <tr>\n",
       "      <th>4</th>\n",
       "      <td>0000757f-a121-41ed-b17b-162e76647c1f</td>\n",
       "      <td>dde79588-12f0-4811-bab0-e2b07f633fcd</td>\n",
       "      <td>Fully Paid</td>\n",
       "      <td>11731</td>\n",
       "      <td>Short Term</td>\n",
       "      <td>746.0</td>\n",
       "      <td>4 years</td>\n",
       "      <td>Rent</td>\n",
       "      <td>50025.0</td>\n",
       "      <td>Debt Consolidation</td>\n",
       "      <td>$355.18</td>\n",
       "      <td>11.5</td>\n",
       "      <td>NaN</td>\n",
       "      <td>12</td>\n",
       "      <td>0</td>\n",
       "      <td>17391</td>\n",
       "      <td>37081</td>\n",
       "      <td>0.0</td>\n",
       "      <td>0.0</td>\n",
       "    </tr>\n",
       "  </tbody>\n",
       "</table>\n",
       "</div>"
      ],
      "text/plain": [
       "                                Loan ID                           Customer ID  \\\n",
       "0  000025bb-5694-4cff-b17d-192b1a98ba44  5ebc8bb1-5eb9-4404-b11b-a6eebc401a19   \n",
       "1  00002c49-3a29-4bd4-8f67-c8f8fbc1048c  927b388d-2e01-423f-a8dc-f7e42d668f46   \n",
       "2  00002d89-27f3-409b-aa76-90834f359a65  defce609-c631-447d-aad6-1270615e89c4   \n",
       "3  00005222-b4d8-45a4-ad8c-186057e24233  070bcecb-aae7-4485-a26a-e0403e7bb6c5   \n",
       "4  0000757f-a121-41ed-b17b-162e76647c1f  dde79588-12f0-4811-bab0-e2b07f633fcd   \n",
       "\n",
       "  Loan Status  Current Loan Amount        Term  Credit Score  \\\n",
       "0  Fully Paid                11520  Short Term         741.0   \n",
       "1  Fully Paid                 3441  Short Term         734.0   \n",
       "2  Fully Paid                21029  Short Term         747.0   \n",
       "3  Fully Paid                18743  Short Term         747.0   \n",
       "4  Fully Paid                11731  Short Term         746.0   \n",
       "\n",
       "  Years in current job Home Ownership  Annual Income             Purpose  \\\n",
       "0            10+ years  Home Mortgage        33694.0  Debt Consolidation   \n",
       "1              4 years  Home Mortgage        42269.0               other   \n",
       "2            10+ years  Home Mortgage        90126.0  Debt Consolidation   \n",
       "3            10+ years       Own Home        38072.0  Debt Consolidation   \n",
       "4              4 years           Rent        50025.0  Debt Consolidation   \n",
       "\n",
       "  Monthly Debt  Years of Credit History  Months since last delinquent  \\\n",
       "0      $584.03                     12.3                          41.0   \n",
       "1   $1,106.04                      26.3                           NaN   \n",
       "2   $1,321.85                      28.8                           NaN   \n",
       "3      $751.92                     26.2                           NaN   \n",
       "4      $355.18                     11.5                           NaN   \n",
       "\n",
       "   Number of Open Accounts  Number of Credit Problems  Current Credit Balance  \\\n",
       "0                       10                          0                    6760   \n",
       "1                       17                          0                    6262   \n",
       "2                        5                          0                   20967   \n",
       "3                        9                          0                   22529   \n",
       "4                       12                          0                   17391   \n",
       "\n",
       "  Maximum Open Credit  Bankruptcies  Tax Liens  \n",
       "0               16056           0.0        0.0  \n",
       "1               19149           0.0        0.0  \n",
       "2               28335           0.0        0.0  \n",
       "3               43915           0.0        0.0  \n",
       "4               37081           0.0        0.0  "
      ]
     },
     "execution_count": 3,
     "metadata": {},
     "output_type": "execute_result"
    }
   ],
   "source": [
    "df = pd.read_csv(\"data/LoansTrainingSet.csv\")\n",
    "df.head()"
   ]
  },
  {
   "cell_type": "code",
   "execution_count": 4,
   "metadata": {},
   "outputs": [],
   "source": [
    "# from ydata_profiling import ProfileReport\n",
    "# profile = ProfileReport(df, title='Pandas Profiling Report')\n",
    "# profile "
   ]
  },
  {
   "cell_type": "code",
   "execution_count": 5,
   "metadata": {},
   "outputs": [
    {
     "name": "stdout",
     "output_type": "stream",
     "text": [
      "<class 'pandas.core.frame.DataFrame'>\n",
      "RangeIndex: 256984 entries, 0 to 256983\n",
      "Data columns (total 19 columns):\n",
      " #   Column                        Non-Null Count   Dtype  \n",
      "---  ------                        --------------   -----  \n",
      " 0   Loan ID                       256984 non-null  object \n",
      " 1   Customer ID                   256984 non-null  object \n",
      " 2   Loan Status                   256984 non-null  object \n",
      " 3   Current Loan Amount           256984 non-null  int64  \n",
      " 4   Term                          256984 non-null  object \n",
      " 5   Credit Score                  195308 non-null  float64\n",
      " 6   Years in current job          245508 non-null  object \n",
      " 7   Home Ownership                256984 non-null  object \n",
      " 8   Annual Income                 195308 non-null  float64\n",
      " 9   Purpose                       256984 non-null  object \n",
      " 10  Monthly Debt                  256984 non-null  object \n",
      " 11  Years of Credit History       256984 non-null  float64\n",
      " 12  Months since last delinquent  116601 non-null  float64\n",
      " 13  Number of Open Accounts       256984 non-null  int64  \n",
      " 14  Number of Credit Problems     256984 non-null  int64  \n",
      " 15  Current Credit Balance        256984 non-null  int64  \n",
      " 16  Maximum Open Credit           256984 non-null  object \n",
      " 17  Bankruptcies                  256455 non-null  float64\n",
      " 18  Tax Liens                     256961 non-null  float64\n",
      "dtypes: float64(6), int64(4), object(9)\n",
      "memory usage: 37.3+ MB\n"
     ]
    }
   ],
   "source": [
    "df.info()"
   ]
  },
  {
   "cell_type": "markdown",
   "metadata": {},
   "source": [
    "--------------------\n",
    "* Drop duplicates"
   ]
  },
  {
   "cell_type": "code",
   "execution_count": 6,
   "metadata": {},
   "outputs": [
    {
     "name": "stdout",
     "output_type": "stream",
     "text": [
      "(256984, 19)\n",
      "(240374, 19)\n"
     ]
    }
   ],
   "source": [
    "#duplicate rows in the dataset will be removed\n",
    "print(df.shape)\n",
    "df = df.drop_duplicates()\n",
    "print(df.shape)\n"
   ]
  },
  {
   "cell_type": "markdown",
   "metadata": {},
   "source": [
    "---------------\n",
    "* Annual Income, Years in current job > They have missing values. \n",
    "* We need to fill them with some values.\n",
    "* We can fill them acording to the distribution of the data."
   ]
  },
  {
   "cell_type": "code",
   "execution_count": 7,
   "metadata": {},
   "outputs": [],
   "source": [
    "df[\"Credit Score\"] = df[\"Credit Score\"].fillna(pd.Series(np.random.choice(df['Credit Score'].dropna().value_counts().index, size=df['Credit Score'].isnull().sum(), p=df['Credit Score'].dropna().value_counts(normalize=True)), index=df[df['Credit Score'].isnull()].index))\n",
    "df[\"Annual Income\"] = df[\"Annual Income\"].fillna(pd.Series(np.random.choice(df['Annual Income'].dropna().value_counts().index, size=df['Annual Income'].isnull().sum(), p=df['Annual Income'].dropna().value_counts(normalize=True)), index=df[df['Annual Income'].isnull()].index))"
   ]
  },
  {
   "cell_type": "code",
   "execution_count": 8,
   "metadata": {},
   "outputs": [
    {
     "data": {
      "text/plain": [
       "count        240374\n",
       "unique           11\n",
       "top       10+ years\n",
       "freq          77307\n",
       "Name: Years in current job, dtype: object"
      ]
     },
     "execution_count": 8,
     "metadata": {},
     "output_type": "execute_result"
    }
   ],
   "source": [
    "df[\"Years in current job\"] = df['Years in current job'].fillna(pd.Series(np.random.choice(df['Years in current job'].dropna().value_counts().index, size=df['Years in current job'].isnull().sum(), p=df['Years in current job'].dropna().value_counts(normalize=True)), index=df[df['Years in current job'].isnull()].index))\n",
    "df[\"Years in current job\"].describe()\n"
   ]
  },
  {
   "cell_type": "markdown",
   "metadata": {},
   "source": [
    "------------------------------------------------------------------\n",
    "* Maximum open credit has unsupportable data type. We need to convert it to float. \n",
    "* after that. it has skewed distribution. We need to handle it.\n",
    "* some techics will be tried. \n",
    "* after that, i choose to use log transformation."
   ]
  },
  {
   "cell_type": "code",
   "execution_count": 9,
   "metadata": {},
   "outputs": [],
   "source": [
    "df[\"Maximum Open Credit\"] = df[\"Maximum Open Credit\"].replace(\"#VALUE!\", np.nan)\n",
    "df[\"Maximum Open Credit\"] = df[\"Maximum Open Credit\"].astype(float)\n",
    "df[\"Maximum Open Credit\"] = df[\"Maximum Open Credit\"].fillna(pd.Series(np.random.choice(df['Maximum Open Credit'].dropna().value_counts().index, size=df['Maximum Open Credit'].isnull().sum(), p=df['Maximum Open Credit'].dropna().value_counts(normalize=True)), index=df[df['Maximum Open Credit'].isnull()].index))\n"
   ]
  },
  {
   "cell_type": "code",
   "execution_count": 10,
   "metadata": {},
   "outputs": [
    {
     "data": {
      "image/png": "[encoded data removed]",
      "text/plain": [
       "<Figure size 2000x600 with 2 Axes>"
      ]
     },
     "metadata": {},
     "output_type": "display_data"
    }
   ],
   "source": [
    "import pandas as pd\n",
    "import numpy as np\n",
    "import matplotlib.pyplot as plt\n",
    "import seaborn as sns\n",
    "from scipy import stats\n",
    "from scipy.stats import skew, kurtosis\n",
    "df['Log_Maximum_Open_Credit'] = np.log1p(df['Maximum Open Credit'])\n",
    "\n",
    "plt.figure(figsize=(20, 6))\n",
    "\n",
    "plt.subplot(1, 5, 1)\n",
    "sns.histplot(df['Maximum Open Credit'], kde=True)\n",
    "plt.title('Original Distribution')\n",
    "\n",
    "plt.subplot(1, 5, 2)\n",
    "sns.histplot(df['Log_Maximum_Open_Credit'], kde=True)\n",
    "plt.title('Log Transformed Distribution')\n",
    "\n",
    "\n",
    "plt.tight_layout()\n",
    "plt.show()\n",
    "\n"
   ]
  },
  {
   "cell_type": "code",
   "execution_count": 11,
   "metadata": {},
   "outputs": [
    {
     "name": "stdout",
     "output_type": "stream",
     "text": [
      "Original Skewness: 230.64838459860553\n",
      "Original Kurtosis: 62082.65761954167\n",
      "Log Transformed Skewness: -4.067604122036582\n",
      "Log Transformed Kurtosis: 33.22260270252668\n"
     ]
    }
   ],
   "source": [
    "print(\"Original Skewness:\", skew(df['Maximum Open Credit']))\n",
    "print(\"Original Kurtosis:\", kurtosis(df['Maximum Open Credit']))\n",
    "\n",
    "print(\"Log Transformed Skewness:\", skew(df['Log_Maximum_Open_Credit']))\n",
    "print(\"Log Transformed Kurtosis:\", kurtosis(df['Log_Maximum_Open_Credit']))\n"
   ]
  },
  {
   "cell_type": "code",
   "execution_count": 12,
   "metadata": {},
   "outputs": [],
   "source": [
    "# I'll use the log transformation for Maximum Open Credit feature. drop the other transformed features\n",
    "# df.drop(['Sqrt_Maximum_Open_Credit', 'Yuan_Maximum_Open_Credit'], axis=1, inplace=True)"
   ]
  },
  {
   "cell_type": "markdown",
   "metadata": {},
   "source": [
    "--------------\n",
    "* Annual_income has skewed distribution. We need to handle it.\n",
    "* some techics will be tried. \n",
    "* after that, i choose to use log transformation."
   ]
  },
  {
   "cell_type": "code",
   "execution_count": 13,
   "metadata": {},
   "outputs": [
    {
     "data": {
      "image/png": "[encoded data removed]",
      "text/plain": [
       "<Figure size 1500x600 with 2 Axes>"
      ]
     },
     "metadata": {},
     "output_type": "display_data"
    }
   ],
   "source": [
    "df['Log_Annual_Income'] = np.log1p(df['Annual Income'])\n",
    "from scipy import stats\n",
    "\n",
    "\n",
    "plt.figure(figsize=(15, 6))\n",
    "\n",
    "plt.subplot(1, 3, 1)\n",
    "sns.histplot(df['Annual Income'], kde=True)\n",
    "plt.title('Original Distribution')\n",
    "\n",
    "plt.subplot(1, 3, 2)\n",
    "sns.histplot(df['Log_Annual_Income'], kde=True)\n",
    "plt.title('Log Transformed Distribution')\n",
    "\n",
    "\n",
    "\n",
    "\n",
    "plt.tight_layout()\n",
    "plt.show()"
   ]
  },
  {
   "cell_type": "code",
   "execution_count": 14,
   "metadata": {},
   "outputs": [
    {
     "name": "stdout",
     "output_type": "stream",
     "text": [
      "Original Skewness: 42.04343589375087\n",
      "Original Kurtosis: 5259.745937649979\n",
      "Log Transformed Skewness: 0.13042747103211916\n",
      "Log Transformed Kurtosis: 1.8175850319191937\n"
     ]
    }
   ],
   "source": [
    "from scipy.stats import skew, kurtosis\n",
    "\n",
    "print(\"Original Skewness:\", skew(df['Annual Income']))\n",
    "print(\"Original Kurtosis:\", kurtosis(df['Annual Income']))\n",
    "\n",
    "print(\"Log Transformed Skewness:\", skew(df['Log_Annual_Income']))\n",
    "print(\"Log Transformed Kurtosis:\", kurtosis(df['Log_Annual_Income']))\n"
   ]
  },
  {
   "cell_type": "code",
   "execution_count": 15,
   "metadata": {},
   "outputs": [],
   "source": [
    "# I'll try boxcox and log, so i can delete other ones\n",
    "# df.drop(['Sqrt_Annual_Income', 'Yuan_Annual_Income'], axis=1, inplace=True)"
   ]
  },
  {
   "cell_type": "markdown",
   "metadata": {},
   "source": [
    "----------------------\n",
    "* Purpose has features that are similar to each other. I will combine them.\n",
    "* and it has some imbalance problem. I will fix it."
   ]
  },
  {
   "cell_type": "code",
   "execution_count": 16,
   "metadata": {},
   "outputs": [
    {
     "data": {
      "text/plain": [
       "Purpose\n",
       "Debt Consolidation      190656\n",
       "Other                    22336\n",
       "Home Improvements        14106\n",
       "Business Loan             4275\n",
       "Buy a Car                 3150\n",
       "Medical Bills             2687\n",
       "Take a Trip               1467\n",
       "Buy House                 1445\n",
       "Educational Expenses       252\n",
       "Name: count, dtype: int64"
      ]
     },
     "execution_count": 16,
     "metadata": {},
     "output_type": "execute_result"
    }
   ],
   "source": [
    "#concate other - Other in purpose\n",
    "df['Purpose'] = df['Purpose'].replace('other', 'Other')\n",
    "df['Purpose'].value_counts()"
   ]
  },
  {
   "cell_type": "code",
   "execution_count": 17,
   "metadata": {},
   "outputs": [],
   "source": [
    "#  the \"purpose\" data will be weighted with the inverse ratio to the frequency of the data\n",
    "purpose_weight = df['Purpose'].value_counts(normalize=True).to_dict()\n",
    "df['purpose_weight'] = df['Purpose'].map(purpose_weight)\n",
    "df['purpose_weight'] = 1/df['purpose_weight']"
   ]
  },
  {
   "cell_type": "code",
   "execution_count": 18,
   "metadata": {},
   "outputs": [],
   "source": [
    "# Purpose to another df\n",
    "purpose_df = df[['Purpose']]\n",
    "df = df.drop('Purpose', axis=1)"
   ]
  },
  {
   "cell_type": "markdown",
   "metadata": {},
   "source": [
    "------------------\n",
    "* Month since last delinquent feature has 53% missing values. I won't use this feature."
   ]
  },
  {
   "cell_type": "code",
   "execution_count": 19,
   "metadata": {},
   "outputs": [],
   "source": [
    "# Drop column -> Months since last delinquent to another dataframe\n",
    "df_Months_since_last_delinquent = df[\"Months since last delinquent\"]\n",
    "df = df.drop(columns=[\"Months since last delinquent\"])"
   ]
  },
  {
   "cell_type": "markdown",
   "metadata": {},
   "source": [
    "-------------\n",
    "* monthly debt is going to be transformed to int"
   ]
  },
  {
   "cell_type": "code",
   "execution_count": 20,
   "metadata": {},
   "outputs": [],
   "source": [
    "#to int\n",
    "df[\"Monthly Debt\"] = df[\"Monthly Debt\"].str.replace(\"$\", \"\").str.replace(\",\", \"\").astype(float)\n"
   ]
  },
  {
   "cell_type": "markdown",
   "metadata": {},
   "source": [
    "-----------------------\n",
    "* Loan status : Fully Paid ->1 , Charged Off ->0"
   ]
  },
  {
   "cell_type": "code",
   "execution_count": 21,
   "metadata": {},
   "outputs": [],
   "source": [
    "df[\"Loan Status\"] = df[\"Loan Status\"].replace(\"Fully Paid\", 1)\n",
    "df[\"Loan Status\"] = df[\"Loan Status\"].replace(\"Charged Off\", 0)\n"
   ]
  },
  {
   "cell_type": "markdown",
   "metadata": {},
   "source": [
    "-----------------------\n",
    "* Term : Long Term ->1 , Short Term ->0"
   ]
  },
  {
   "cell_type": "code",
   "execution_count": 22,
   "metadata": {},
   "outputs": [],
   "source": [
    "df[\"Term\"] = df[\"Term\"].replace(\"Long Term\", 1)\n",
    "df[\"Term\"] = df[\"Term\"].replace(\"Short Term\", 0)\n"
   ]
  },
  {
   "cell_type": "markdown",
   "metadata": {},
   "source": [
    "------------\n",
    "* Bankrupties has missing value"
   ]
  },
  {
   "cell_type": "code",
   "execution_count": 23,
   "metadata": {},
   "outputs": [],
   "source": [
    "#bankruptcies\n",
    "df[\"Bankruptcies\"] = df[\"Bankruptcies\"].fillna(pd.Series(np.random.choice(df['Bankruptcies'].dropna().value_counts().index, size=df['Bankruptcies'].isnull().sum(), p=df['Bankruptcies'].dropna().value_counts(normalize=True)), index=df[df['Bankruptcies'].isnull()].index))\n",
    "df[\"Bankruptcies\"] = df[\"Bankruptcies\"].astype(int)"
   ]
  },
  {
   "cell_type": "markdown",
   "metadata": {},
   "source": [
    "---------------------\n",
    "* Years in curr job to int data type"
   ]
  },
  {
   "cell_type": "code",
   "execution_count": 24,
   "metadata": {},
   "outputs": [],
   "source": [
    "#Years in current job\n",
    "df[\"Years in current job\"] = df[\"Years in current job\"].replace(\"< 1 year\", 0)\n",
    "df[\"Years in current job\"] = df[\"Years in current job\"].replace(\"1 year\", 1)\n",
    "df[\"Years in current job\"] = df[\"Years in current job\"].replace(\"2 years\", 2)\n",
    "df[\"Years in current job\"] = df[\"Years in current job\"].replace(\"3 years\", 3)\n",
    "df[\"Years in current job\"] = df[\"Years in current job\"].replace(\"4 years\", 4)\n",
    "df[\"Years in current job\"] = df[\"Years in current job\"].replace(\"5 years\", 5)\n",
    "df[\"Years in current job\"] = df[\"Years in current job\"].replace(\"6 years\", 6)\n",
    "df[\"Years in current job\"] = df[\"Years in current job\"].replace(\"7 years\", 7)\n",
    "df[\"Years in current job\"] = df[\"Years in current job\"].replace(\"8 years\", 8)\n",
    "df[\"Years in current job\"] = df[\"Years in current job\"].replace(\"9 years\", 9)\n",
    "df[\"Years in current job\"] = df[\"Years in current job\"].replace(\"10+ years\", 10)\n",
    "df[\"Years in current job\"] = df[\"Years in current job\"].astype(int)\n",
    "\n",
    "#or classifying the years in current job (low , medium , high)\n",
    "df[\"Length of current job\"] = df[\"Years in current job\"].apply(lambda x: 1 if x < 3 else 2 if x < 6 else 3)"
   ]
  },
  {
   "cell_type": "markdown",
   "metadata": {},
   "source": [
    "-------------\n",
    "* Tax lines"
   ]
  },
  {
   "cell_type": "code",
   "execution_count": 25,
   "metadata": {},
   "outputs": [],
   "source": [
    "df[\"Tax Liens\"] = df[\"Tax Liens\"].fillna(pd.Series(np.random.choice(df['Tax Liens'].dropna().value_counts().index, size=df['Tax Liens'].isnull().sum(), p=df['Tax Liens'].dropna().value_counts(normalize=True)), index=df[df['Tax Liens'].isnull()].index))"
   ]
  },
  {
   "cell_type": "markdown",
   "metadata": {},
   "source": [
    "----------------\n",
    "* Loan Id and Customer Id will be dropped to another dataframe\n"
   ]
  },
  {
   "cell_type": "code",
   "execution_count": 26,
   "metadata": {},
   "outputs": [],
   "source": [
    "df_Loan_ID = df[\"Loan ID\"]\n",
    "df_Customer_ID = df[\"Customer ID\"]\n",
    "df = df.drop(columns=[\"Loan ID\", \"Customer ID\"])"
   ]
  },
  {
   "cell_type": "markdown",
   "metadata": {},
   "source": [
    "--------------\n",
    "* Home ownership to int\n"
   ]
  },
  {
   "cell_type": "code",
   "execution_count": 27,
   "metadata": {},
   "outputs": [],
   "source": [
    "df[\"Home Ownership\"] = df[\"Home Ownership\"].replace(\"Home Mortgage\", 0)\n",
    "df[\"Home Ownership\"] = df[\"Home Ownership\"].replace(\"Rent\", 1)\n",
    "df[\"Home Ownership\"] = df[\"Home Ownership\"].replace(\"Own Home\", 2)\n",
    "df[\"Home Ownership\"] = df[\"Home Ownership\"].replace(\"HaveMortgage\", 3)"
   ]
  },
  {
   "cell_type": "code",
   "execution_count": 28,
   "metadata": {},
   "outputs": [
    {
     "data": {
      "text/html": [
       "<div>\n",
       "<style scoped>\n",
       "    .dataframe tbody tr th:only-of-type {\n",
       "        vertical-align: middle;\n",
       "    }\n",
       "\n",
       "    .dataframe tbody tr th {\n",
       "        vertical-align: top;\n",
       "    }\n",
       "\n",
       "    .dataframe thead th {\n",
       "        text-align: right;\n",
       "    }\n",
       "</style>\n",
       "<table border=\"1\" class=\"dataframe\">\n",
       "  <thead>\n",
       "    <tr style=\"text-align: right;\">\n",
       "      <th></th>\n",
       "      <th>Loan Status</th>\n",
       "      <th>Current Loan Amount</th>\n",
       "      <th>Term</th>\n",
       "      <th>Credit Score</th>\n",
       "      <th>Years in current job</th>\n",
       "      <th>Home Ownership</th>\n",
       "      <th>Annual Income</th>\n",
       "      <th>Monthly Debt</th>\n",
       "      <th>Years of Credit History</th>\n",
       "      <th>Number of Open Accounts</th>\n",
       "      <th>Number of Credit Problems</th>\n",
       "      <th>Current Credit Balance</th>\n",
       "      <th>Maximum Open Credit</th>\n",
       "      <th>Bankruptcies</th>\n",
       "      <th>Tax Liens</th>\n",
       "      <th>Log_Maximum_Open_Credit</th>\n",
       "      <th>Log_Annual_Income</th>\n",
       "      <th>purpose_weight</th>\n",
       "      <th>Length of current job</th>\n",
       "    </tr>\n",
       "  </thead>\n",
       "  <tbody>\n",
       "    <tr>\n",
       "      <th>256979</th>\n",
       "      <td>1</td>\n",
       "      <td>3911</td>\n",
       "      <td>0</td>\n",
       "      <td>722.0</td>\n",
       "      <td>2</td>\n",
       "      <td>1</td>\n",
       "      <td>49152.0</td>\n",
       "      <td>1706.58</td>\n",
       "      <td>19.9</td>\n",
       "      <td>16</td>\n",
       "      <td>0</td>\n",
       "      <td>43992</td>\n",
       "      <td>44080.0</td>\n",
       "      <td>0</td>\n",
       "      <td>0.0</td>\n",
       "      <td>10.693784</td>\n",
       "      <td>10.802693</td>\n",
       "      <td>1.260773</td>\n",
       "      <td>1</td>\n",
       "    </tr>\n",
       "    <tr>\n",
       "      <th>256980</th>\n",
       "      <td>1</td>\n",
       "      <td>5078</td>\n",
       "      <td>0</td>\n",
       "      <td>737.0</td>\n",
       "      <td>10</td>\n",
       "      <td>2</td>\n",
       "      <td>77186.0</td>\n",
       "      <td>1376.47</td>\n",
       "      <td>19.1</td>\n",
       "      <td>9</td>\n",
       "      <td>0</td>\n",
       "      <td>1717</td>\n",
       "      <td>9758.0</td>\n",
       "      <td>0</td>\n",
       "      <td>0.0</td>\n",
       "      <td>9.185945</td>\n",
       "      <td>11.253986</td>\n",
       "      <td>1.260773</td>\n",
       "      <td>3</td>\n",
       "    </tr>\n",
       "    <tr>\n",
       "      <th>256981</th>\n",
       "      <td>0</td>\n",
       "      <td>12116</td>\n",
       "      <td>0</td>\n",
       "      <td>7460.0</td>\n",
       "      <td>9</td>\n",
       "      <td>0</td>\n",
       "      <td>52504.0</td>\n",
       "      <td>297.96</td>\n",
       "      <td>15.1</td>\n",
       "      <td>8</td>\n",
       "      <td>0</td>\n",
       "      <td>3315</td>\n",
       "      <td>20090.0</td>\n",
       "      <td>0</td>\n",
       "      <td>0.0</td>\n",
       "      <td>9.908027</td>\n",
       "      <td>10.868664</td>\n",
       "      <td>1.260773</td>\n",
       "      <td>3</td>\n",
       "    </tr>\n",
       "    <tr>\n",
       "      <th>256982</th>\n",
       "      <td>0</td>\n",
       "      <td>12116</td>\n",
       "      <td>0</td>\n",
       "      <td>746.0</td>\n",
       "      <td>9</td>\n",
       "      <td>0</td>\n",
       "      <td>52504.0</td>\n",
       "      <td>297.96</td>\n",
       "      <td>15.1</td>\n",
       "      <td>8</td>\n",
       "      <td>0</td>\n",
       "      <td>3315</td>\n",
       "      <td>20090.0</td>\n",
       "      <td>0</td>\n",
       "      <td>0.0</td>\n",
       "      <td>9.908027</td>\n",
       "      <td>10.868664</td>\n",
       "      <td>1.260773</td>\n",
       "      <td>3</td>\n",
       "    </tr>\n",
       "    <tr>\n",
       "      <th>256983</th>\n",
       "      <td>1</td>\n",
       "      <td>27902</td>\n",
       "      <td>1</td>\n",
       "      <td>678.0</td>\n",
       "      <td>10</td>\n",
       "      <td>0</td>\n",
       "      <td>117480.0</td>\n",
       "      <td>2525.82</td>\n",
       "      <td>18.0</td>\n",
       "      <td>10</td>\n",
       "      <td>0</td>\n",
       "      <td>28317</td>\n",
       "      <td>62371.0</td>\n",
       "      <td>0</td>\n",
       "      <td>0.0</td>\n",
       "      <td>11.040872</td>\n",
       "      <td>11.674032</td>\n",
       "      <td>1.260773</td>\n",
       "      <td>3</td>\n",
       "    </tr>\n",
       "  </tbody>\n",
       "</table>\n",
       "</div>"
      ],
      "text/plain": [
       "        Loan Status  Current Loan Amount  Term  Credit Score  \\\n",
       "256979            1                 3911     0         722.0   \n",
       "256980            1                 5078     0         737.0   \n",
       "256981            0                12116     0        7460.0   \n",
       "256982            0                12116     0         746.0   \n",
       "256983            1                27902     1         678.0   \n",
       "\n",
       "        Years in current job  Home Ownership  Annual Income  Monthly Debt  \\\n",
       "256979                     2               1        49152.0       1706.58   \n",
       "256980                    10               2        77186.0       1376.47   \n",
       "256981                     9               0        52504.0        297.96   \n",
       "256982                     9               0        52504.0        297.96   \n",
       "256983                    10               0       117480.0       2525.82   \n",
       "\n",
       "        Years of Credit History  Number of Open Accounts  \\\n",
       "256979                     19.9                       16   \n",
       "256980                     19.1                        9   \n",
       "256981                     15.1                        8   \n",
       "256982                     15.1                        8   \n",
       "256983                     18.0                       10   \n",
       "\n",
       "        Number of Credit Problems  Current Credit Balance  \\\n",
       "256979                          0                   43992   \n",
       "256980                          0                    1717   \n",
       "256981                          0                    3315   \n",
       "256982                          0                    3315   \n",
       "256983                          0                   28317   \n",
       "\n",
       "        Maximum Open Credit  Bankruptcies  Tax Liens  Log_Maximum_Open_Credit  \\\n",
       "256979              44080.0             0        0.0                10.693784   \n",
       "256980               9758.0             0        0.0                 9.185945   \n",
       "256981              20090.0             0        0.0                 9.908027   \n",
       "256982              20090.0             0        0.0                 9.908027   \n",
       "256983              62371.0             0        0.0                11.040872   \n",
       "\n",
       "        Log_Annual_Income  purpose_weight  Length of current job  \n",
       "256979          10.802693        1.260773                      1  \n",
       "256980          11.253986        1.260773                      3  \n",
       "256981          10.868664        1.260773                      3  \n",
       "256982          10.868664        1.260773                      3  \n",
       "256983          11.674032        1.260773                      3  "
      ]
     },
     "execution_count": 28,
     "metadata": {},
     "output_type": "execute_result"
    }
   ],
   "source": [
    "df.tail()"
   ]
  },
  {
   "cell_type": "code",
   "execution_count": 29,
   "metadata": {},
   "outputs": [
    {
     "name": "stdout",
     "output_type": "stream",
     "text": [
      "<class 'pandas.core.frame.DataFrame'>\n",
      "Index: 240374 entries, 0 to 256983\n",
      "Data columns (total 19 columns):\n",
      " #   Column                     Non-Null Count   Dtype  \n",
      "---  ------                     --------------   -----  \n",
      " 0   Loan Status                240374 non-null  int64  \n",
      " 1   Current Loan Amount        240374 non-null  int64  \n",
      " 2   Term                       240374 non-null  int64  \n",
      " 3   Credit Score               240374 non-null  float64\n",
      " 4   Years in current job       240374 non-null  int32  \n",
      " 5   Home Ownership             240374 non-null  int64  \n",
      " 6   Annual Income              240374 non-null  float64\n",
      " 7   Monthly Debt               240374 non-null  float64\n",
      " 8   Years of Credit History    240374 non-null  float64\n",
      " 9   Number of Open Accounts    240374 non-null  int64  \n",
      " 10  Number of Credit Problems  240374 non-null  int64  \n",
      " 11  Current Credit Balance     240374 non-null  int64  \n",
      " 12  Maximum Open Credit        240374 non-null  float64\n",
      " 13  Bankruptcies               240374 non-null  int32  \n",
      " 14  Tax Liens                  240374 non-null  float64\n",
      " 15  Log_Maximum_Open_Credit    240374 non-null  float64\n",
      " 16  Log_Annual_Income          240374 non-null  float64\n",
      " 17  purpose_weight             240374 non-null  float64\n",
      " 18  Length of current job      240374 non-null  int64  \n",
      "dtypes: float64(9), int32(2), int64(8)\n",
      "memory usage: 34.8 MB\n"
     ]
    }
   ],
   "source": [
    "df.info()"
   ]
  },
  {
   "cell_type": "code",
   "execution_count": 31,
   "metadata": {},
   "outputs": [],
   "source": [
    "# we will split data into two parts, one for the model and the other for the prediction\n",
    "from sklearn.model_selection import train_test_split\n",
    "X = df.drop(columns=[\"Loan Status\"])\n",
    "y = df[\"Loan Status\"]"
   ]
  },
  {
   "cell_type": "code",
   "execution_count": 32,
   "metadata": {},
   "outputs": [],
   "source": [
    "algo_test_classification(X, y)"
   ]
  },
  {
   "cell_type": "code",
   "execution_count": 30,
   "metadata": {},
   "outputs": [
    {
     "name": "stdout",
     "output_type": "stream",
     "text": [
      "Accuracy: 0.7933229329173167\n",
      "Precision: 0.803089357021592\n",
      "Recall: 0.9517952787145407\n",
      "F1 Score: 0.8711417751724854\n"
     ]
    }
   ],
   "source": [
    "\n",
    "\n",
    "X_train, X_test, y_train, y_test = train_test_split(X, y, test_size=0.2, random_state=42)\n",
    "\n",
    "# we will use the Random Forest model for the prediction\n",
    "from sklearn.ensemble import RandomForestClassifier\n",
    "from sklearn.metrics import accuracy_score, precision_score, recall_score, f1_score\n",
    "\n",
    "rf = RandomForestClassifier()\n",
    "\n",
    "rf.fit(X_train, y_train)\n",
    "y_pred = rf.predict(X_test)\n",
    "\n",
    "print(\"Accuracy:\", accuracy_score(y_test, y_pred))\n",
    "print(\"Precision:\", precision_score(y_test, y_pred))\n",
    "print(\"Recall:\", recall_score(y_test, y_pred))\n",
    "print(\"F1 Score:\", f1_score(y_test, y_pred))\n"
   ]
  },
  {
   "cell_type": "code",
   "execution_count": 33,
   "metadata": {},
   "outputs": [
    {
     "name": "stdout",
     "output_type": "stream",
     "text": [
      "Accuracy: 0.7884555382215288\n",
      "Precision: 0.7914143172061724\n",
      "Recall: 0.9665315838694136\n",
      "F1 Score: 0.8702508228930111\n"
     ]
    }
   ],
   "source": [
    "#another model\n",
    "from sklearn.ensemble import GradientBoostingClassifier\n",
    "\n",
    "gb = GradientBoostingClassifier()\n",
    "gb.fit(X_train, y_train)\n",
    "y_pred = gb.predict(X_test)\n",
    "\n",
    "print(\"Accuracy:\", accuracy_score(y_test, y_pred))\n",
    "print(\"Precision:\", precision_score(y_test, y_pred))\n",
    "print(\"Recall:\", recall_score(y_test, y_pred))\n",
    "print(\"F1 Score:\", f1_score(y_test, y_pred))\n",
    "\n"
   ]
  },
  {
   "cell_type": "code",
   "execution_count": 34,
   "metadata": {},
   "outputs": [
    {
     "name": "stdout",
     "output_type": "stream",
     "text": [
      "Accuracy: 0.7872490899635985\n",
      "Precision: 0.7951798713690014\n",
      "Recall: 0.9565278997931249\n",
      "F1 Score: 0.8684230838500527\n"
     ]
    }
   ],
   "source": [
    "#another model\n",
    "from sklearn.ensemble import AdaBoostClassifier\n",
    "\n",
    "ada = AdaBoostClassifier()\n",
    "ada.fit(X_train, y_train)\n",
    "y_pred = ada.predict(X_test)\n",
    "\n",
    "print(\"Accuracy:\", accuracy_score(y_test, y_pred))\n",
    "print(\"Precision:\", precision_score(y_test, y_pred))\n",
    "\n",
    "print(\"Recall:\", recall_score(y_test, y_pred))\n",
    "print(\"F1 Score:\", f1_score(y_test, y_pred))\n",
    "\n"
   ]
  },
  {
   "cell_type": "markdown",
   "metadata": {},
   "source": [
    "## Best modelling for this data is random forest\n"
   ]
  },
  {
   "cell_type": "code",
   "execution_count": 32,
   "metadata": {},
   "outputs": [
    {
     "data": {
      "image/png": "[encoded data removed]",
      "text/plain": [
       "<Figure size 1500x600 with 1 Axes>"
      ]
     },
     "metadata": {},
     "output_type": "display_data"
    }
   ],
   "source": [
    "#feature importance- plot- increasing importance\n",
    "importances = rf.feature_importances_\n",
    "indices = np.argsort(importances)[::-1]\n",
    "\n",
    "plt.figure(figsize=(15, 6))\n",
    "plt.title(\"Feature Importance\")\n",
    "\n",
    "plt.bar(range(X_train.shape[1]), importances[indices])\n",
    "plt.xticks(range(X_train.shape[1]), X_train.columns[indices], rotation=90)\n",
    "plt.show()\n"
   ]
  }
 ],
 "metadata": {
  "kernelspec": {
   "display_name": "Python 3",
   "language": "python",
   "name": "python3"
  },
  "language_info": {
   "codemirror_mode": {
    "name": "ipython",
    "version": 3
   },
   "file_extension": ".py",
   "mimetype": "text/x-python",
   "name": "python",
   "nbconvert_exporter": "python",
   "pygments_lexer": "ipython3",
   "version": "3.11.5"
  }
 },
 "nbformat": 4,
 "nbformat_minor": 2
}
